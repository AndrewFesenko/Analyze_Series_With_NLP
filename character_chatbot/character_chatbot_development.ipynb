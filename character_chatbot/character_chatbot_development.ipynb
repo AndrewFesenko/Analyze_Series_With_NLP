{
 "cells": [
  {
   "cell_type": "code",
   "execution_count": 1,
   "metadata": {},
   "outputs": [
    {
     "name": "stderr",
     "output_type": "stream",
     "text": [
      "c:\\Users\\Andrew\\AppData\\Local\\Programs\\Python\\Python312\\Lib\\site-packages\\tqdm\\auto.py:21: TqdmWarning: IProgress not found. Please update jupyter and ipywidgets. See https://ipywidgets.readthedocs.io/en/stable/user_install.html\n",
      "  from .autonotebook import tqdm as notebook_tqdm\n"
     ]
    }
   ],
   "source": [
    "import pandas as pd\n",
    "import re\n",
    "from datasets import Dataset"
   ]
  },
  {
   "cell_type": "code",
   "execution_count": null,
   "metadata": {},
   "outputs": [],
   "source": []
  },
  {
   "cell_type": "code",
   "execution_count": 2,
   "metadata": {},
   "outputs": [],
   "source": [
    "#Load Dataset"
   ]
  },
  {
   "cell_type": "code",
   "execution_count": 22,
   "metadata": {},
   "outputs": [],
   "source": [
    "data_path = \"../data/blackclover.csv\"\n",
    "blackclover_transcript_df = pd.read_csv(data_path, names=['speaker', 'line'])"
   ]
  },
  {
   "cell_type": "code",
   "execution_count": 23,
   "metadata": {},
   "outputs": [
    {
     "data": {
      "text/html": [
       "<div>\n",
       "<style scoped>\n",
       "    .dataframe tbody tr th:only-of-type {\n",
       "        vertical-align: middle;\n",
       "    }\n",
       "\n",
       "    .dataframe tbody tr th {\n",
       "        vertical-align: top;\n",
       "    }\n",
       "\n",
       "    .dataframe thead th {\n",
       "        text-align: right;\n",
       "    }\n",
       "</style>\n",
       "<table border=\"1\" class=\"dataframe\">\n",
       "  <thead>\n",
       "    <tr style=\"text-align: right;\">\n",
       "      <th></th>\n",
       "      <th>speaker</th>\n",
       "      <th>line</th>\n",
       "    </tr>\n",
       "  </thead>\n",
       "  <tbody>\n",
       "    <tr>\n",
       "      <th>0</th>\n",
       "      <td>Orsi</td>\n",
       "      <td>Here we go again…</td>\n",
       "    </tr>\n",
       "    <tr>\n",
       "      <th>1</th>\n",
       "      <td>Orsi</td>\n",
       "      <td>Oh, there, there…\\r\\nThere you are.\\r\\nAhh… Th...</td>\n",
       "    </tr>\n",
       "    <tr>\n",
       "      <th>2</th>\n",
       "      <td>Orsi</td>\n",
       "      <td>Hm? “Yuno”…</td>\n",
       "    </tr>\n",
       "    <tr>\n",
       "      <th>3</th>\n",
       "      <td>Orsi</td>\n",
       "      <td>Hmm… Let’s see. And the spunk one over here is --</td>\n",
       "    </tr>\n",
       "    <tr>\n",
       "      <th>4</th>\n",
       "      <td>Orsi</td>\n",
       "      <td>Urk!\\r\\nHey! You’re a bit too spunky…\\r\\nNgh… ...</td>\n",
       "    </tr>\n",
       "    <tr>\n",
       "      <th>...</th>\n",
       "      <td>...</td>\n",
       "      <td>...</td>\n",
       "    </tr>\n",
       "    <tr>\n",
       "      <th>216</th>\n",
       "      <td>Revchi</td>\n",
       "      <td>But you didn’t have any magic within you!\\r\\nW...</td>\n",
       "    </tr>\n",
       "    <tr>\n",
       "      <th>217</th>\n",
       "      <td>Narrator</td>\n",
       "      <td>The three leaves of the clover represent faith...</td>\n",
       "    </tr>\n",
       "    <tr>\n",
       "      <th>218</th>\n",
       "      <td>Revchi</td>\n",
       "      <td>Ah… Ahh… Ahh…</td>\n",
       "    </tr>\n",
       "    <tr>\n",
       "      <th>219</th>\n",
       "      <td>Narrator</td>\n",
       "      <td>Within a fourth leaf dwells good luck.</td>\n",
       "    </tr>\n",
       "    <tr>\n",
       "      <th>220</th>\n",
       "      <td>Narrator</td>\n",
       "      <td>Within a fifth leaf… resides a demon.</td>\n",
       "    </tr>\n",
       "  </tbody>\n",
       "</table>\n",
       "<p>221 rows × 2 columns</p>\n",
       "</div>"
      ],
      "text/plain": [
       "      speaker                                               line\n",
       "0        Orsi                                  Here we go again…\n",
       "1        Orsi  Oh, there, there…\\r\\nThere you are.\\r\\nAhh… Th...\n",
       "2        Orsi                                        Hm? “Yuno”…\n",
       "3        Orsi  Hmm… Let’s see. And the spunk one over here is --\n",
       "4        Orsi  Urk!\\r\\nHey! You’re a bit too spunky…\\r\\nNgh… ...\n",
       "..        ...                                                ...\n",
       "216    Revchi  But you didn’t have any magic within you!\\r\\nW...\n",
       "217  Narrator  The three leaves of the clover represent faith...\n",
       "218    Revchi                                      Ah… Ahh… Ahh…\n",
       "219  Narrator             Within a fourth leaf dwells good luck.\n",
       "220  Narrator              Within a fifth leaf… resides a demon.\n",
       "\n",
       "[221 rows x 2 columns]"
      ]
     },
     "execution_count": 23,
     "metadata": {},
     "output_type": "execute_result"
    }
   ],
   "source": [
    "blackclover_transcript_df"
   ]
  },
  {
   "cell_type": "code",
   "execution_count": 34,
   "metadata": {},
   "outputs": [],
   "source": [
    "if 'naruto_response_flag' in blackclover_transcript_df.columns:\n",
    "    blackclover_transcript_df = blackclover_transcript_df.drop(columns=['naruto_response_flag'])"
   ]
  },
  {
   "cell_type": "code",
   "execution_count": 35,
   "metadata": {},
   "outputs": [],
   "source": [
    "blackclover_transcript_df['number_of_words'] = blackclover_transcript_df['line'].str.strip().str.split(\" \")\n",
    "blackclover_transcript_df['number_of_words'] = blackclover_transcript_df['number_of_words'].apply(lambda x: len(x))\n",
    "\n"
   ]
  },
  {
   "cell_type": "code",
   "execution_count": 36,
   "metadata": {},
   "outputs": [
    {
     "data": {
      "text/html": [
       "<div>\n",
       "<style scoped>\n",
       "    .dataframe tbody tr th:only-of-type {\n",
       "        vertical-align: middle;\n",
       "    }\n",
       "\n",
       "    .dataframe tbody tr th {\n",
       "        vertical-align: top;\n",
       "    }\n",
       "\n",
       "    .dataframe thead th {\n",
       "        text-align: right;\n",
       "    }\n",
       "</style>\n",
       "<table border=\"1\" class=\"dataframe\">\n",
       "  <thead>\n",
       "    <tr style=\"text-align: right;\">\n",
       "      <th></th>\n",
       "      <th>speaker</th>\n",
       "      <th>line</th>\n",
       "      <th>number_of_words</th>\n",
       "      <th>blackclover_response_flag</th>\n",
       "    </tr>\n",
       "  </thead>\n",
       "  <tbody>\n",
       "    <tr>\n",
       "      <th>0</th>\n",
       "      <td>Orsi</td>\n",
       "      <td>Here we go again…</td>\n",
       "      <td>4</td>\n",
       "      <td>0</td>\n",
       "    </tr>\n",
       "    <tr>\n",
       "      <th>1</th>\n",
       "      <td>Orsi</td>\n",
       "      <td>Oh, there, there…\\r\\nThere you are.\\r\\nAhh… Th...</td>\n",
       "      <td>40</td>\n",
       "      <td>0</td>\n",
       "    </tr>\n",
       "    <tr>\n",
       "      <th>2</th>\n",
       "      <td>Orsi</td>\n",
       "      <td>Hm? “Yuno”…</td>\n",
       "      <td>2</td>\n",
       "      <td>0</td>\n",
       "    </tr>\n",
       "    <tr>\n",
       "      <th>3</th>\n",
       "      <td>Orsi</td>\n",
       "      <td>Hmm… Let’s see. And the spunk one over here is --</td>\n",
       "      <td>11</td>\n",
       "      <td>0</td>\n",
       "    </tr>\n",
       "    <tr>\n",
       "      <th>4</th>\n",
       "      <td>Orsi</td>\n",
       "      <td>Urk!\\r\\nHey! You’re a bit too spunky…\\r\\nNgh… ...</td>\n",
       "      <td>7</td>\n",
       "      <td>0</td>\n",
       "    </tr>\n",
       "  </tbody>\n",
       "</table>\n",
       "</div>"
      ],
      "text/plain": [
       "  speaker                                               line  number_of_words  \\\n",
       "0    Orsi                                  Here we go again…                4   \n",
       "1    Orsi  Oh, there, there…\\r\\nThere you are.\\r\\nAhh… Th...               40   \n",
       "2    Orsi                                        Hm? “Yuno”…                2   \n",
       "3    Orsi  Hmm… Let’s see. And the spunk one over here is --               11   \n",
       "4    Orsi  Urk!\\r\\nHey! You’re a bit too spunky…\\r\\nNgh… ...                7   \n",
       "\n",
       "   blackclover_response_flag  \n",
       "0                          0  \n",
       "1                          0  \n",
       "2                          0  \n",
       "3                          0  \n",
       "4                          0  "
      ]
     },
     "execution_count": 36,
     "metadata": {},
     "output_type": "execute_result"
    }
   ],
   "source": [
    "blackclover_transcript_df.head()"
   ]
  },
  {
   "cell_type": "code",
   "execution_count": 37,
   "metadata": {},
   "outputs": [],
   "source": [
    "blackclover_transcript_df['blackclover_response_flag'] = 0\n",
    "blackclover_transcript_df.loc[(blackclover_transcript_df['speaker'] == \"BlackClover\") & (blackclover_transcript_df['number_of_words'] > 5), 'blackclover_response_flag'] = 1"
   ]
  },
  {
   "cell_type": "code",
   "execution_count": 38,
   "metadata": {},
   "outputs": [
    {
     "data": {
      "text/html": [
       "<div>\n",
       "<style scoped>\n",
       "    .dataframe tbody tr th:only-of-type {\n",
       "        vertical-align: middle;\n",
       "    }\n",
       "\n",
       "    .dataframe tbody tr th {\n",
       "        vertical-align: top;\n",
       "    }\n",
       "\n",
       "    .dataframe thead th {\n",
       "        text-align: right;\n",
       "    }\n",
       "</style>\n",
       "<table border=\"1\" class=\"dataframe\">\n",
       "  <thead>\n",
       "    <tr style=\"text-align: right;\">\n",
       "      <th></th>\n",
       "      <th>speaker</th>\n",
       "      <th>line</th>\n",
       "      <th>number_of_words</th>\n",
       "      <th>blackclover_response_flag</th>\n",
       "    </tr>\n",
       "  </thead>\n",
       "  <tbody>\n",
       "    <tr>\n",
       "      <th>0</th>\n",
       "      <td>Orsi</td>\n",
       "      <td>Here we go again…</td>\n",
       "      <td>4</td>\n",
       "      <td>0</td>\n",
       "    </tr>\n",
       "    <tr>\n",
       "      <th>1</th>\n",
       "      <td>Orsi</td>\n",
       "      <td>Oh, there, there…\\r\\nThere you are.\\r\\nAhh… Th...</td>\n",
       "      <td>40</td>\n",
       "      <td>0</td>\n",
       "    </tr>\n",
       "    <tr>\n",
       "      <th>2</th>\n",
       "      <td>Orsi</td>\n",
       "      <td>Hm? “Yuno”…</td>\n",
       "      <td>2</td>\n",
       "      <td>0</td>\n",
       "    </tr>\n",
       "    <tr>\n",
       "      <th>3</th>\n",
       "      <td>Orsi</td>\n",
       "      <td>Hmm… Let’s see. And the spunk one over here is --</td>\n",
       "      <td>11</td>\n",
       "      <td>0</td>\n",
       "    </tr>\n",
       "    <tr>\n",
       "      <th>4</th>\n",
       "      <td>Orsi</td>\n",
       "      <td>Urk!\\r\\nHey! You’re a bit too spunky…\\r\\nNgh… ...</td>\n",
       "      <td>7</td>\n",
       "      <td>0</td>\n",
       "    </tr>\n",
       "    <tr>\n",
       "      <th>...</th>\n",
       "      <td>...</td>\n",
       "      <td>...</td>\n",
       "      <td>...</td>\n",
       "      <td>...</td>\n",
       "    </tr>\n",
       "    <tr>\n",
       "      <th>216</th>\n",
       "      <td>Revchi</td>\n",
       "      <td>But you didn’t have any magic within you!\\r\\nW...</td>\n",
       "      <td>14</td>\n",
       "      <td>0</td>\n",
       "    </tr>\n",
       "    <tr>\n",
       "      <th>217</th>\n",
       "      <td>Narrator</td>\n",
       "      <td>The three leaves of the clover represent faith...</td>\n",
       "      <td>11</td>\n",
       "      <td>0</td>\n",
       "    </tr>\n",
       "    <tr>\n",
       "      <th>218</th>\n",
       "      <td>Revchi</td>\n",
       "      <td>Ah… Ahh… Ahh…</td>\n",
       "      <td>3</td>\n",
       "      <td>0</td>\n",
       "    </tr>\n",
       "    <tr>\n",
       "      <th>219</th>\n",
       "      <td>Narrator</td>\n",
       "      <td>Within a fourth leaf dwells good luck.</td>\n",
       "      <td>7</td>\n",
       "      <td>0</td>\n",
       "    </tr>\n",
       "    <tr>\n",
       "      <th>220</th>\n",
       "      <td>Narrator</td>\n",
       "      <td>Within a fifth leaf… resides a demon.</td>\n",
       "      <td>7</td>\n",
       "      <td>0</td>\n",
       "    </tr>\n",
       "  </tbody>\n",
       "</table>\n",
       "<p>221 rows × 4 columns</p>\n",
       "</div>"
      ],
      "text/plain": [
       "      speaker                                               line  \\\n",
       "0        Orsi                                  Here we go again…   \n",
       "1        Orsi  Oh, there, there…\\r\\nThere you are.\\r\\nAhh… Th...   \n",
       "2        Orsi                                        Hm? “Yuno”…   \n",
       "3        Orsi  Hmm… Let’s see. And the spunk one over here is --   \n",
       "4        Orsi  Urk!\\r\\nHey! You’re a bit too spunky…\\r\\nNgh… ...   \n",
       "..        ...                                                ...   \n",
       "216    Revchi  But you didn’t have any magic within you!\\r\\nW...   \n",
       "217  Narrator  The three leaves of the clover represent faith...   \n",
       "218    Revchi                                      Ah… Ahh… Ahh…   \n",
       "219  Narrator             Within a fourth leaf dwells good luck.   \n",
       "220  Narrator              Within a fifth leaf… resides a demon.   \n",
       "\n",
       "     number_of_words  blackclover_response_flag  \n",
       "0                  4                          0  \n",
       "1                 40                          0  \n",
       "2                  2                          0  \n",
       "3                 11                          0  \n",
       "4                  7                          0  \n",
       "..               ...                        ...  \n",
       "216               14                          0  \n",
       "217               11                          0  \n",
       "218                3                          0  \n",
       "219                7                          0  \n",
       "220                7                          0  \n",
       "\n",
       "[221 rows x 4 columns]"
      ]
     },
     "execution_count": 38,
     "metadata": {},
     "output_type": "execute_result"
    }
   ],
   "source": [
    "blackclover_transcript_df"
   ]
  },
  {
   "cell_type": "code",
   "execution_count": 39,
   "metadata": {},
   "outputs": [],
   "source": [
    "indexes_to_take = list(blackclover_transcript_df[(blackclover_transcript_df['blackclover_response_flag']==1)&(blackclover_transcript_df.index>0)].index)"
   ]
  },
  {
   "cell_type": "code",
   "execution_count": 40,
   "metadata": {},
   "outputs": [
    {
     "data": {
      "text/plain": [
       "[]"
      ]
     },
     "execution_count": 40,
     "metadata": {},
     "output_type": "execute_result"
    }
   ],
   "source": [
    "indexes_to_take[:3]"
   ]
  },
  {
   "cell_type": "code",
   "execution_count": 41,
   "metadata": {},
   "outputs": [],
   "source": [
    "system_promt = \"\"\"\" Your are Black Clover from the anime \"Black Clover\". Your responses should reflect his personality and speech patterns \\n\"\"\"\n",
    "\n",
    "prompts = []\n",
    "for ind in indexes_to_take:\n",
    "    prompt = system_promt\n",
    "\n",
    "    prompt += blackclover_transcript_df.iloc[ind -1]['line']\n",
    "    prompt += '\\n'\n",
    "    prompt += blackclover_transcript_df.iloc[ind]['line']\n",
    "    prompts.append(prompt)"
   ]
  },
  {
   "cell_type": "code",
   "execution_count": 42,
   "metadata": {},
   "outputs": [
    {
     "ename": "IndexError",
     "evalue": "list index out of range",
     "output_type": "error",
     "traceback": [
      "\u001b[1;31m---------------------------------------------------------------------------\u001b[0m",
      "\u001b[1;31mIndexError\u001b[0m                                Traceback (most recent call last)",
      "Cell \u001b[1;32mIn[42], line 1\u001b[0m\n\u001b[1;32m----> 1\u001b[0m \u001b[38;5;28mprint\u001b[39m(\u001b[43mprompts\u001b[49m\u001b[43m[\u001b[49m\u001b[38;5;241;43m3\u001b[39;49m\u001b[43m]\u001b[49m)\n",
      "\u001b[1;31mIndexError\u001b[0m: list index out of range"
     ]
    }
   ],
   "source": [
    "print(prompts[3])"
   ]
  },
  {
   "cell_type": "code",
   "execution_count": 43,
   "metadata": {},
   "outputs": [
    {
     "name": "stdout",
     "output_type": "stream",
     "text": [
      "0\n"
     ]
    }
   ],
   "source": [
    "print(len(prompts))\n"
   ]
  },
  {
   "cell_type": "code",
   "execution_count": 44,
   "metadata": {},
   "outputs": [
    {
     "name": "stdout",
     "output_type": "stream",
     "text": [
      "[]\n"
     ]
    }
   ],
   "source": [
    "print(indexes_to_take)\n"
   ]
  },
  {
   "cell_type": "code",
   "execution_count": 45,
   "metadata": {},
   "outputs": [
    {
     "name": "stdout",
     "output_type": "stream",
     "text": [
      "The 'prompts' list has fewer than 4 items.\n"
     ]
    }
   ],
   "source": [
    "if len(prompts) > 3:\n",
    "    print(prompts[3])\n",
    "else:\n",
    "    print(\"The 'prompts' list has fewer than 4 items.\")\n"
   ]
  },
  {
   "cell_type": "code",
   "execution_count": 46,
   "metadata": {},
   "outputs": [
    {
     "name": "stdout",
     "output_type": "stream",
     "text": [
      "blackclover_response_flag\n",
      "0    221\n",
      "Name: count, dtype: int64\n"
     ]
    }
   ],
   "source": [
    "print(blackclover_transcript_df['blackclover_response_flag'].value_counts())\n"
   ]
  },
  {
   "cell_type": "code",
   "execution_count": 47,
   "metadata": {},
   "outputs": [],
   "source": [
    "blackclover_transcript_df['blackclover_response_flag'] = 0\n",
    "blackclover_transcript_df.loc[\n",
    "    (blackclover_transcript_df['speaker'] == \"BlackClover\") &\n",
    "    (blackclover_transcript_df['number_of_words'] > 5),\n",
    "    'blackclover_response_flag'\n",
    "] = 1\n"
   ]
  },
  {
   "cell_type": "code",
   "execution_count": 48,
   "metadata": {},
   "outputs": [],
   "source": [
    "blackclover_transcript_df.loc[\n",
    "    blackclover_transcript_df['number_of_words'] > 5,\n",
    "    'blackclover_response_flag'\n",
    "] = 1\n"
   ]
  },
  {
   "cell_type": "code",
   "execution_count": 49,
   "metadata": {},
   "outputs": [
    {
     "name": "stdout",
     "output_type": "stream",
     "text": [
      "      speaker                                               line  \\\n",
      "1        Orsi  Oh, there, there…\\r\\nThere you are.\\r\\nAhh… Th...   \n",
      "3        Orsi  Hmm… Let’s see. And the spunk one over here is --   \n",
      "4        Orsi  Urk!\\r\\nHey! You’re a bit too spunky…\\r\\nNgh… ...   \n",
      "5        Orsi  “Asta”, huh?\\r\\nRight! You two don’t need to w...   \n",
      "6         Men  Hopefully, we’ll have a great harvest this yea...   \n",
      "..        ...                                                ...   \n",
      "214      Yuno  I knew it. There’s no way that Asta wouldn’t h...   \n",
      "216    Revchi  But you didn’t have any magic within you!\\r\\nW...   \n",
      "217  Narrator  The three leaves of the clover represent faith...   \n",
      "219  Narrator             Within a fourth leaf dwells good luck.   \n",
      "220  Narrator              Within a fifth leaf… resides a demon.   \n",
      "\n",
      "     number_of_words  blackclover_response_flag  \n",
      "1                 40                          1  \n",
      "3                 11                          1  \n",
      "4                  7                          1  \n",
      "5                 20                          1  \n",
      "6                 10                          1  \n",
      "..               ...                        ...  \n",
      "214               12                          1  \n",
      "216               14                          1  \n",
      "217               11                          1  \n",
      "219                7                          1  \n",
      "220                7                          1  \n",
      "\n",
      "[107 rows x 4 columns]\n"
     ]
    }
   ],
   "source": [
    "print(blackclover_transcript_df[blackclover_transcript_df['blackclover_response_flag'] == 1])\n"
   ]
  },
  {
   "cell_type": "code",
   "execution_count": 50,
   "metadata": {},
   "outputs": [],
   "source": [
    "blackclover_transcript_df['blackclover_response_flag'] = 0\n",
    "blackclover_transcript_df.loc[blackclover_transcript_df['number_of_words'] > 5, 'blackclover_response_flag'] = 1\n"
   ]
  },
  {
   "cell_type": "code",
   "execution_count": null,
   "metadata": {},
   "outputs": [],
   "source": [
    "characters_of_interest = ['Orsi' 'Men' 'Asta' 'Lily' 'Recca' 'Nash' 'Yuno' 'Aruru' 'Narrator'\n",
    " 'Noble 1' 'Noble 2' 'Drouot' 'Crowd' 'Children' 'Revchi']\n",
    "blackclover_transcript_df['blackclover_response_flag'] = 0\n",
    "blackclover_transcript_df.loc[\n",
    "    (blackclover_transcript_df['speaker'].isin(characters_of_interest)) &\n",
    "    (blackclover_transcript_df['number_of_words'] > 5),\n",
    "    'blackclover_response_flag'\n",
    "] = 1\n"
   ]
  },
  {
   "cell_type": "code",
   "execution_count": null,
   "metadata": {},
   "outputs": [
    {
     "name": "stdout",
     "output_type": "stream",
     "text": [
      "['Orsi' 'Men' 'Asta' 'Lily' 'Recca' 'Nash' 'Yuno' 'Aruru' 'Narrator'\n",
      " 'Noble 1' 'Noble 2' 'Drouot' 'Crowd' 'Children' 'Revchi']\n"
     ]
    },
    {
     "data": {
      "text/plain": [
       "''"
      ]
     },
     "execution_count": 54,
     "metadata": {},
     "output_type": "execute_result"
    }
   ],
   "source": [
    "print(blackclover_transcript_df['speaker'].unique())\n"
   ]
  },
  {
   "cell_type": "code",
   "execution_count": 55,
   "metadata": {},
   "outputs": [
    {
     "name": "stdout",
     "output_type": "stream",
     "text": [
      "blackclover_response_flag\n",
      "0    181\n",
      "1     40\n",
      "Name: count, dtype: int64\n"
     ]
    }
   ],
   "source": [
    "print(blackclover_transcript_df['blackclover_response_flag'].value_counts())\n"
   ]
  },
  {
   "cell_type": "code",
   "execution_count": 56,
   "metadata": {},
   "outputs": [
    {
     "name": "stdout",
     "output_type": "stream",
     "text": [
      "   speaker                                               line  \\\n",
      "1     Orsi  Oh, there, there…\\r\\nThere you are.\\r\\nAhh… Th...   \n",
      "3     Orsi  Hmm… Let’s see. And the spunk one over here is --   \n",
      "4     Orsi  Urk!\\r\\nHey! You’re a bit too spunky…\\r\\nNgh… ...   \n",
      "5     Orsi  “Asta”, huh?\\r\\nRight! You two don’t need to w...   \n",
      "34    Yuno  Why?\\r\\nBecause you’re loud, short, obnoxious,...   \n",
      "\n",
      "    number_of_words  blackclover_response_flag  \n",
      "1                40                          1  \n",
      "3                11                          1  \n",
      "4                 7                          1  \n",
      "5                20                          1  \n",
      "34               15                          1  \n"
     ]
    }
   ],
   "source": [
    "print(blackclover_transcript_df[blackclover_transcript_df['blackclover_response_flag'] == 1].head())\n"
   ]
  },
  {
   "cell_type": "code",
   "execution_count": 57,
   "metadata": {},
   "outputs": [],
   "source": [
    "characters_of_interest = ['Orsi', 'Men', 'Asta', 'Lily', 'Recca', 'Nash', 'Yuno', 'Aruru', 'Narrator', 'Noble 1', 'Noble 2', 'Drouot', 'Crowd', 'Children', 'Revchi']\n",
    "blackclover_transcript_df['blackclover_response_flag'] = 0\n",
    "blackclover_transcript_df.loc[\n",
    "    (blackclover_transcript_df['speaker'].isin(characters_of_interest)) &\n",
    "    (blackclover_transcript_df['number_of_words'] > 5),\n",
    "    'blackclover_response_flag'\n",
    "] = 1\n"
   ]
  },
  {
   "cell_type": "code",
   "execution_count": 58,
   "metadata": {},
   "outputs": [
    {
     "name": "stdout",
     "output_type": "stream",
     "text": [
      "blackclover_response_flag\n",
      "0    114\n",
      "1    107\n",
      "Name: count, dtype: int64\n",
      "  speaker                                               line  number_of_words  \\\n",
      "1    Orsi  Oh, there, there…\\r\\nThere you are.\\r\\nAhh… Th...               40   \n",
      "3    Orsi  Hmm… Let’s see. And the spunk one over here is --               11   \n",
      "4    Orsi  Urk!\\r\\nHey! You’re a bit too spunky…\\r\\nNgh… ...                7   \n",
      "5    Orsi  “Asta”, huh?\\r\\nRight! You two don’t need to w...               20   \n",
      "6     Men  Hopefully, we’ll have a great harvest this yea...               10   \n",
      "\n",
      "   blackclover_response_flag  \n",
      "1                          1  \n",
      "3                          1  \n",
      "4                          1  \n",
      "5                          1  \n",
      "6                          1  \n"
     ]
    }
   ],
   "source": [
    "print(blackclover_transcript_df['blackclover_response_flag'].value_counts())\n",
    "print(blackclover_transcript_df[blackclover_transcript_df['blackclover_response_flag'] == 1].head())\n"
   ]
  },
  {
   "cell_type": "code",
   "execution_count": 59,
   "metadata": {},
   "outputs": [
    {
     "name": "stdout",
     "output_type": "stream",
     "text": [
      "   speaker                                               line  \\\n",
      "1     Orsi  Oh, there, there…\\r\\nThere you are.\\r\\nAhh… Th...   \n",
      "3     Orsi  Hmm… Let’s see. And the spunk one over here is --   \n",
      "4     Orsi  Urk!\\r\\nHey! You’re a bit too spunky…\\r\\nNgh… ...   \n",
      "5     Orsi  “Asta”, huh?\\r\\nRight! You two don’t need to w...   \n",
      "6      Men  Hopefully, we’ll have a great harvest this yea...   \n",
      "8      Men  Hm?\\r\\nWhat the…?\\r\\nMust be that runt from th...   \n",
      "9     Asta  I’ll become the Wizard King someday and make y...   \n",
      "10    Lily        I’m sorry, Asta, but I’m everyone’s sister.   \n",
      "15    Asta                        Ahh… I’m not giving up yet!   \n",
      "24    Lily  Ah… I-I’m sorry, Asta.\\r\\nI used magic from my...   \n",
      "\n",
      "    number_of_words  blackclover_response_flag  \n",
      "1                40                          1  \n",
      "3                11                          1  \n",
      "4                 7                          1  \n",
      "5                20                          1  \n",
      "6                10                          1  \n",
      "8                 9                          1  \n",
      "9                14                          1  \n",
      "10                7                          1  \n",
      "15                6                          1  \n",
      "24               11                          1  \n"
     ]
    }
   ],
   "source": [
    "print(blackclover_transcript_df[blackclover_transcript_df['blackclover_response_flag'] == 1].head(10))\n"
   ]
  },
  {
   "cell_type": "code",
   "execution_count": 60,
   "metadata": {},
   "outputs": [
    {
     "name": "stdout",
     "output_type": "stream",
     "text": [
      "You are a character from the anime \"Black Clover\". Your responses should reflect the personality and speech patterns of the character.\n",
      "Urk!\n",
      "Hey! You’re a bit too spunky…\n",
      "Ngh… Fufu…\n",
      "“Asta”, huh?\n",
      "Right! You two don’t need to worry about a thing anymore.\n",
      "Starting today, this is your new home… Asta, Yuno.\n"
     ]
    }
   ],
   "source": [
    "indexes_to_take = list(blackclover_transcript_df[(blackclover_transcript_df['blackclover_response_flag'] == 1) & (blackclover_transcript_df.index > 0)].index)\n",
    "\n",
    "system_prompt = \"\"\"You are a character from the anime \"Black Clover\". Your responses should reflect the personality and speech patterns of the character.\\n\"\"\"\n",
    "\n",
    "prompts = []\n",
    "for ind in indexes_to_take:\n",
    "    prompt = system_prompt\n",
    "    prompt += blackclover_transcript_df.iloc[ind - 1]['line'] + '\\n'\n",
    "    prompt += blackclover_transcript_df.iloc[ind]['line']\n",
    "    prompts.append(prompt)\n",
    "\n",
    "# Print a sample prompt to verify\n",
    "if len(prompts) > 3:\n",
    "    print(prompts[3])\n",
    "else:\n",
    "    print(\"The 'prompts' list has fewer than 4 items.\")\n"
   ]
  },
  {
   "cell_type": "code",
   "execution_count": 61,
   "metadata": {},
   "outputs": [
    {
     "data": {
      "text/html": [
       "<div>\n",
       "<style scoped>\n",
       "    .dataframe tbody tr th:only-of-type {\n",
       "        vertical-align: middle;\n",
       "    }\n",
       "\n",
       "    .dataframe tbody tr th {\n",
       "        vertical-align: top;\n",
       "    }\n",
       "\n",
       "    .dataframe thead th {\n",
       "        text-align: right;\n",
       "    }\n",
       "</style>\n",
       "<table border=\"1\" class=\"dataframe\">\n",
       "  <thead>\n",
       "    <tr style=\"text-align: right;\">\n",
       "      <th></th>\n",
       "      <th>prompt</th>\n",
       "    </tr>\n",
       "  </thead>\n",
       "  <tbody>\n",
       "    <tr>\n",
       "      <th>0</th>\n",
       "      <td>You are a character from the anime \"Black Clov...</td>\n",
       "    </tr>\n",
       "    <tr>\n",
       "      <th>1</th>\n",
       "      <td>You are a character from the anime \"Black Clov...</td>\n",
       "    </tr>\n",
       "    <tr>\n",
       "      <th>2</th>\n",
       "      <td>You are a character from the anime \"Black Clov...</td>\n",
       "    </tr>\n",
       "    <tr>\n",
       "      <th>3</th>\n",
       "      <td>You are a character from the anime \"Black Clov...</td>\n",
       "    </tr>\n",
       "    <tr>\n",
       "      <th>4</th>\n",
       "      <td>You are a character from the anime \"Black Clov...</td>\n",
       "    </tr>\n",
       "  </tbody>\n",
       "</table>\n",
       "</div>"
      ],
      "text/plain": [
       "                                              prompt\n",
       "0  You are a character from the anime \"Black Clov...\n",
       "1  You are a character from the anime \"Black Clov...\n",
       "2  You are a character from the anime \"Black Clov...\n",
       "3  You are a character from the anime \"Black Clov...\n",
       "4  You are a character from the anime \"Black Clov..."
      ]
     },
     "execution_count": 61,
     "metadata": {},
     "output_type": "execute_result"
    }
   ],
   "source": [
    "df = pd.DataFrame({\"prompt\":prompts})\n",
    "df.head()"
   ]
  },
  {
   "cell_type": "code",
   "execution_count": 62,
   "metadata": {},
   "outputs": [],
   "source": [
    "dataset = Dataset.from_pandas(df)"
   ]
  },
  {
   "cell_type": "code",
   "execution_count": null,
   "metadata": {},
   "outputs": [],
   "source": []
  }
 ],
 "metadata": {
  "kernelspec": {
   "display_name": "Python 3",
   "language": "python",
   "name": "python3"
  },
  "language_info": {
   "codemirror_mode": {
    "name": "ipython",
    "version": 3
   },
   "file_extension": ".py",
   "mimetype": "text/x-python",
   "name": "python",
   "nbconvert_exporter": "python",
   "pygments_lexer": "ipython3",
   "version": "3.12.0"
  }
 },
 "nbformat": 4,
 "nbformat_minor": 2
}
