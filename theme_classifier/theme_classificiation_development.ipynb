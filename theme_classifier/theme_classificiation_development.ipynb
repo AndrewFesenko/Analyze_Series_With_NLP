{
 "cells": [
  {
   "cell_type": "code",
   "execution_count": 1,
   "metadata": {},
   "outputs": [
    {
     "name": "stderr",
     "output_type": "stream",
     "text": [
      "c:\\Users\\Andrew\\AppData\\Local\\Programs\\Python\\Python312\\Lib\\site-packages\\tqdm\\auto.py:21: TqdmWarning: IProgress not found. Please update jupyter and ipywidgets. See https://ipywidgets.readthedocs.io/en/stable/user_install.html\n",
      "  from .autonotebook import tqdm as notebook_tqdm\n"
     ]
    }
   ],
   "source": [
    "from transformers import pipeline\n",
    "from nltk import sent_tokenize\n",
    "import nltk\n",
    "import torch\n",
    "import re\n",
    "import os\n",
    "import numpy as np\n",
    "from glob import glob\n",
    "import pandas as pd\n"
   ]
  },
  {
   "cell_type": "code",
   "execution_count": 2,
   "metadata": {},
   "outputs": [
    {
     "name": "stderr",
     "output_type": "stream",
     "text": [
      "[nltk_data] Downloading package punkt to\n",
      "[nltk_data]     C:\\Users\\Andrew\\AppData\\Roaming\\nltk_data...\n",
      "[nltk_data]   Package punkt is already up-to-date!\n"
     ]
    },
    {
     "data": {
      "text/plain": [
       "True"
      ]
     },
     "execution_count": 2,
     "metadata": {},
     "output_type": "execute_result"
    }
   ],
   "source": [
    "nltk.download('punkt')"
   ]
  },
  {
   "cell_type": "markdown",
   "metadata": {},
   "source": [
    "#Load Model"
   ]
  },
  {
   "cell_type": "code",
   "execution_count": 3,
   "metadata": {},
   "outputs": [],
   "source": [
    "model_name = \"facebook/bart-large-mnli\"\n",
    "device = 0 if torch.cuda.is_available() else -1"
   ]
  },
  {
   "cell_type": "code",
   "execution_count": 4,
   "metadata": {},
   "outputs": [],
   "source": [
    "def load_model(device):\n",
    "    theme_classifier = pipeline(\n",
    "        \"zero-shot-classification\",\n",
    "        model=model_name,\n",
    "        framework=\"pt\",\n",
    "        device=device\n",
    "    )\n",
    "    return theme_classifier"
   ]
  },
  {
   "cell_type": "code",
   "execution_count": 5,
   "metadata": {},
   "outputs": [],
   "source": [
    "theme_classifier = load_model(device)"
   ]
  },
  {
   "cell_type": "code",
   "execution_count": 6,
   "metadata": {},
   "outputs": [],
   "source": [
    "theme_list = [\"friendship\", \"perseverance\", \"dialogue\", \"sacrifice\", \"magic vs effort\", \"self-discovery\", \"teamwork\", \"discrimination\", \"dreams\", \"overcoming adversity\", \"belonging\"]"
   ]
  },
  {
   "cell_type": "code",
   "execution_count": 7,
   "metadata": {},
   "outputs": [
    {
     "data": {
      "text/plain": [
       "{'sequence': 'I tried my hardest even though I was born without magic',\n",
       " 'labels': ['perseverance',\n",
       "  'overcoming adversity',\n",
       "  'sacrifice',\n",
       "  'magic vs effort',\n",
       "  'self-discovery',\n",
       "  'belonging',\n",
       "  'discrimination',\n",
       "  'dialogue',\n",
       "  'teamwork',\n",
       "  'dreams',\n",
       "  'friendship'],\n",
       " 'scores': [0.973241925239563,\n",
       "  0.9624465703964233,\n",
       "  0.8755594491958618,\n",
       "  0.6383119225502014,\n",
       "  0.27197927236557007,\n",
       "  0.22932417690753937,\n",
       "  0.1509479135274887,\n",
       "  0.054969243705272675,\n",
       "  0.050298213958740234,\n",
       "  0.026436014100909233,\n",
       "  0.025358907878398895]}"
      ]
     },
     "execution_count": 7,
     "metadata": {},
     "output_type": "execute_result"
    }
   ],
   "source": [
    "theme_classifier(\n",
    "    \"I tried my hardest even though I was born without magic\",\n",
    "    theme_list,\n",
    "    multi_label=True\n",
    ")"
   ]
  },
  {
   "cell_type": "code",
   "execution_count": 8,
   "metadata": {
    "slideshow": {
     "slide_type": "notes"
    }
   },
   "outputs": [],
   "source": [
    "# Load Dataset"
   ]
  },
  {
   "cell_type": "code",
   "execution_count": 9,
   "metadata": {},
   "outputs": [],
   "source": [
    "files = glob('../data/Subtitles/*.ass')\n",
    "files_sorted = sorted(files, key=lambda x: int(re.findall(r'\\d+', x)[0]))"
   ]
  },
  {
   "cell_type": "code",
   "execution_count": 10,
   "metadata": {},
   "outputs": [
    {
     "data": {
      "text/plain": [
       "['../data/Subtitles\\\\1.ass',\n",
       " '../data/Subtitles\\\\2.ass',\n",
       " '../data/Subtitles\\\\3.ass',\n",
       " '../data/Subtitles\\\\4.ass',\n",
       " '../data/Subtitles\\\\5.ass']"
      ]
     },
     "execution_count": 10,
     "metadata": {},
     "output_type": "execute_result"
    }
   ],
   "source": [
    "files_sorted[:5]"
   ]
  },
  {
   "cell_type": "code",
   "execution_count": 11,
   "metadata": {},
   "outputs": [],
   "source": [
    "with open(files_sorted[0], 'r') as file:\n",
    "    lines = file.readlines()\n",
    "    lines = lines[30:]\n",
    "    lines = [\",\".join(line.split(',')[9:]) for line in lines]"
   ]
  },
  {
   "cell_type": "code",
   "execution_count": 12,
   "metadata": {},
   "outputs": [
    {
     "data": {
      "text/plain": [
       "['A Village Out in the Boonies: Hage\\n', 'Here we go again...\\n']"
      ]
     },
     "execution_count": 12,
     "metadata": {},
     "output_type": "execute_result"
    }
   ],
   "source": [
    "lines[:2]"
   ]
  },
  {
   "cell_type": "code",
   "execution_count": 13,
   "metadata": {},
   "outputs": [
    {
     "data": {
      "text/plain": [
       "\"A Village Out in the Boonies: Hage\\n Here we go again...\\n There, there...\\n There you are.\\n Those two finally calmed down.\\n Are they brothers... or perhaps twins?\\n No, they're not.\\n This one is rather calm, but this one...\\n seems like he has a lot of spunk.\\n First of all, they don't look a thing alike.\\n\""
      ]
     },
     "execution_count": 13,
     "metadata": {},
     "output_type": "execute_result"
    }
   ],
   "source": [
    "\" \".join(lines[:10])"
   ]
  },
  {
   "cell_type": "code",
   "execution_count": 14,
   "metadata": {},
   "outputs": [
    {
     "data": {
      "text/plain": [
       "1"
      ]
     },
     "execution_count": 14,
     "metadata": {},
     "output_type": "execute_result"
    }
   ],
   "source": [
    "int(files_sorted[0].split('\\\\')[-1].split('.')[0].strip())"
   ]
  },
  {
   "cell_type": "code",
   "execution_count": 15,
   "metadata": {},
   "outputs": [],
   "source": [
    "def load_subtitles_dataset(dataset_path):\n",
    "    subtitles_paths = glob(dataset_path + '/*.ass')\n",
    "\n",
    "    # Sort files by the numeric part in the filename\n",
    "    subtitles_paths = sorted(subtitles_paths, key=lambda x: int(re.findall(r'\\d+', os.path.basename(x))[0]))\n",
    "\n",
    "    scripts = []\n",
    "    episode_num = []\n",
    "\n",
    "    for path in subtitles_paths:\n",
    "        # Read Lines with correct encoding\n",
    "        with open(path, 'r', encoding='latin-1', errors='ignore') as file:\n",
    "            lines = file.readlines()\n",
    "\n",
    "            # Skip metadata or header lines (e.g., first 30 lines)\n",
    "            lines = lines[30:]\n",
    "\n",
    "            # Process lines: Remove \\N, join the rest, and ensure sentences are properly separated\n",
    "            # Replace \\N with a space, strip unnecessary spaces, and join with a newline '\\n'\n",
    "            lines = [\",\".join(line.split(',')[9:]).replace('\\\\N', ' ').strip() for line in lines if line.strip()]\n",
    "\n",
    "        # Join the lines with a newline '\\n' for consistent sentence separation\n",
    "        script = \"\\n \".join(lines)  # Ensure every sentence ends with '\\n'\n",
    "\n",
    "        # Extract the episode number from the filename\n",
    "        try:\n",
    "            episode = int(re.findall(r'\\d+', os.path.basename(path))[0])\n",
    "        except ValueError:\n",
    "            print(f\"Skipping file: {path}\")\n",
    "            continue\n",
    "\n",
    "        scripts.append(script)\n",
    "        episode_num.append(episode)\n",
    "\n",
    "    # Create a DataFrame from the episodes and scripts\n",
    "    df = pd.DataFrame({\"episode\": episode_num, \"script\": scripts})\n",
    "    return df"
   ]
  },
  {
   "cell_type": "code",
   "execution_count": 16,
   "metadata": {},
   "outputs": [],
   "source": [
    "dataset_path = \"../data/Subtitles\"\n",
    "df = load_subtitles_dataset(dataset_path)"
   ]
  },
  {
   "cell_type": "code",
   "execution_count": 17,
   "metadata": {},
   "outputs": [
    {
     "data": {
      "text/html": [
       "<div>\n",
       "<style scoped>\n",
       "    .dataframe tbody tr th:only-of-type {\n",
       "        vertical-align: middle;\n",
       "    }\n",
       "\n",
       "    .dataframe tbody tr th {\n",
       "        vertical-align: top;\n",
       "    }\n",
       "\n",
       "    .dataframe thead th {\n",
       "        text-align: right;\n",
       "    }\n",
       "</style>\n",
       "<table border=\"1\" class=\"dataframe\">\n",
       "  <thead>\n",
       "    <tr style=\"text-align: right;\">\n",
       "      <th></th>\n",
       "      <th>episode</th>\n",
       "      <th>script</th>\n",
       "    </tr>\n",
       "  </thead>\n",
       "  <tbody>\n",
       "    <tr>\n",
       "      <th>0</th>\n",
       "      <td>1</td>\n",
       "      <td>A Village Out in the Boonies: Hage\\n Here we g...</td>\n",
       "    </tr>\n",
       "    <tr>\n",
       "      <th>1</th>\n",
       "      <td>2</td>\n",
       "      <td>Not yet. I'm not finished...\\n I'm going to be...</td>\n",
       "    </tr>\n",
       "    <tr>\n",
       "      <th>2</th>\n",
       "      <td>3</td>\n",
       "      <td>It appeared as though humanity  would be destr...</td>\n",
       "    </tr>\n",
       "    <tr>\n",
       "      <th>3</th>\n",
       "      <td>4</td>\n",
       "      <td>It appeared as though humanity  would be destr...</td>\n",
       "    </tr>\n",
       "    <tr>\n",
       "      <th>4</th>\n",
       "      <td>5</td>\n",
       "      <td>It appeared as though humanity  would be destr...</td>\n",
       "    </tr>\n",
       "  </tbody>\n",
       "</table>\n",
       "</div>"
      ],
      "text/plain": [
       "   episode                                             script\n",
       "0        1  A Village Out in the Boonies: Hage\\n Here we g...\n",
       "1        2  Not yet. I'm not finished...\\n I'm going to be...\n",
       "2        3  It appeared as though humanity  would be destr...\n",
       "3        4  It appeared as though humanity  would be destr...\n",
       "4        5  It appeared as though humanity  would be destr..."
      ]
     },
     "execution_count": 17,
     "metadata": {},
     "output_type": "execute_result"
    }
   ],
   "source": [
    "df.head()"
   ]
  },
  {
   "cell_type": "code",
   "execution_count": 18,
   "metadata": {},
   "outputs": [],
   "source": [
    "#Run Model"
   ]
  },
  {
   "cell_type": "code",
   "execution_count": 19,
   "metadata": {},
   "outputs": [],
   "source": [
    "script = df.iloc[0]['script']"
   ]
  },
  {
   "cell_type": "code",
   "execution_count": 20,
   "metadata": {},
   "outputs": [
    {
     "data": {
      "text/plain": [
       "'A Village Out in the Boonies: Hage\\n Here we go again...\\n There, there...\\n There you are.\\n Those two finally calmed down.\\n Are they brothers... or perhaps twins?\\n No, they\\'re not.\\n This one is rather calm, but this one...\\n seems like he has a lot of spunk.\\n First of all, they don\\'t look a thing alike.\\n Hm? \"Yuno\"...\\n Let\\'s see. And the spunky one over here isâ\\x80\\x94\\n Hey! You\\'re a bit too spunky...\\n \"Asta,\" eh?\\n Right! You two don\\'t need to  worry about a thing anymore.\\n Starting today, this is your new home...\\n Asta, Yuno.\\n {\\\\fad(1,958)}15 Years Later\\n Hopefully, we\\'ll have a  great harvest this year.\\n Yeah.\\n Hup.\\n Sister Lily!\\n What the...\\n Must be that runt from the church again.\\n I\\'ll become the Wizard King  someday and make you happy!\\n So please marry me!\\n I\\'m sorry, Asta, but I\\'m everyone\\'s sister.\\n Not yet!\\n Um... I\\'m sorry.\\n I\\'m not giving up yet!\\n Er, um... But...\\n I\\'m not giving up!\\n I\\'m really sorry!\\n One more time, Sister Lily!\\n Stop pestering me!\\n Water Creation Magic: Holy Fist of Love!\\n I-I\\'m sorry, Asta.\\n I used magic from my  grimoire without thinking...\\n Well done, sister.\\n No mercy whatsoever.\\n I-I... It just happened..\\n I\\'m not done yet!\\n Sheesh.\\n How many times does she have to dump you?\\n Why are you getting in my way too, Yuno?!\\n Why?\\n Because you\\'re loud, short,\\n Loud\\n Short\\n obnoxious, and immature.\\n Obnoxious\\n Immature\\n Basically, you\\'re not appealing to women in any way.\\n Not appealing\\n Hey! Is that what you say to  someone you\\'ve grown up with\\n for the past fifteen years, you handsome jerk?!\\n Let me give you a hand.\\n Thanks.\\n Don\\'t ignore me, damn it!\\n Asta, Sister Lily is a woman of the cloth, so she can\\'t get married.\\n Also, you\\'re only fifteen, so you can\\'t get married anyway.\\n Shut up! Yuno, you jerk... I oughta...\\n I challenge you to a fight, Yuno!\\n And I decline.\\n Why the hell not?!\\n Because it\\'s a waste of time.\\n What\\'d you say?!\\n Give it a rest, Asta. There\\'s no way you can beat Yuno.\\n Take this...\\n My ultimate...\\n Hold up, Asta.\\n Attack!\\n I mean, you can\\'t even use magic.\\n Nothing came out!\\n I\\'m not done yet!\\n You\\'re funny, Asta!\\n You have zero sense.\\n It\\'s hard to believe someone your age can\\'t use magic yet.\\n The hell\\'s your problem?! How dare  you speak to your elders that way?!\\n Shut up.\\n Magic is everything in this world.\\n It\\'s only natural to be able to use magic.\\n You\\'re the only one I\\'ve ever  seen who can\\'t use it, Asta.\\n G-Guess I don\\'t have a choice...\\n I\\'ll have to show you what  I\\'m really made of...\\n What you\\'re really made of?\\n How you like that?! I know you  can\\'t do sit-ups this fast!\\n What\\'s your point, you idiot?\\n You\\'re funny, Asta!\\n Yuno\\'s so cool!\\n That\\'s Yuno for you.\\n He\\'s such a great help.\\n Then leave... the wood-chopping...\\n to me!\\n I still can\\'t believe you  two are the same age.\\n Yuno is the hope of this church!\\n I won\\'t be surprised if you end up joining\\n the Magic Knights who serve the Wizard King, Yuno!\\n The awarding ceremony is coming up, Asta.\\n Once you receive your grimoire,\\n it should trigger something within you,  and you should be able to use magic, too.\\n Sister...\\n At least, I think so.\\n I\\'ll get my grimoire soon...\\n Finally... Finally!\\n I\\'ll get a grimoire that\\'s more  amazing than anyone else\\'s,\\n get into the Magic Knights, follow in your footsteps,\\n and become the Wizard King!\\n There he goes again.\\n And I\\'ll fix up this shabby, ugly church!\\n Well, I\\'m sorry it\\'s so shabby and ugly!\\n Right, Yuno?\\n Right?\\n Just you wait...\\n Just you wait, damn it!\\n Asta, wait!\\n Is he really older than me?\\n Say, Yuno... Couldn\\'t you  be a bit nicer to Asta?\\n Like you used to be. Remember how you two  were always together when you were little?\\n Yuno used to be such a crybaby,\\n but ever since the day he brought Asta back with those terrible injuries,\\n Yuno hasn\\'t cried at all.\\n I can\\'t be nicer to him.\\n Come to think of it, Asta has come home covered in mud ever since that day, too.\\n I wonder what he\\'s doing out there...\\n 994... 995, 996,\\n 997, 998, 999... 1,000!\\n And now for this moguro leaf juice, which is supposed to be\\n good for increasing magical powers!\\n I\\'m going to become the Wizard King.\\n That\\'s the one thing I\\'ll never give up on!\\n But before that, I need to build myself up!\\n March... When firefly dandelion fluff  starts to dance through the air.\\n Once a year, all around the Clover Kingdom,  all of the 15-year-olds are gathered,\\n {\\\\fad(961,1037)}Grimoire Tower\\n and an awarding ceremony  is held, where they receive\\n their own grimoires, which  enhance their magical powers.\\n Wow!\\n A-Are all of these grimoires?\\n Which one is mine?\\n Once I get my grimoire, I\\'m sure  I\\'ll be able to use magic, too.\\n I\\'ll catch up to Yuno in no time!\\n Hmph. I guess today\\'s the day I become a full-fledged mage.\\n Hey, look over there.\\n Pathetic, isn\\'t it? They shouldn\\'t have  to give grimoires to dregs like that.\\n You said it.\\n Don\\'t tell me they\\'re\\n actually planning on taking the  Magic Knights\\' entrance exams, too.\\n Only nobles born with immense magical power or ties to the royal family ever get in.\\n Besides, I heard that shrimp can\\'t even use magic!\\n Wow... Then we need to take good care of him.\\n He\\'s like a national treasure, since he\\'s probably\\n the only one in this whole  kingdom who can\\'t use magic.\\n Welcome, young men and women.\\n You all begin a new journey today.\\n I wish you all faith, hope, and love.\\n I am the master of this grimoire tower.\\n We\\'ve never had a Wizard King from this area,\\n nor anyone who\\'s actually achieved  greatness in the Magic Knights.\\n I sincerely hope that one of you  will become the Wizard King someday.\\n No, really! Seriously!\\n Ahem.\\n Now it\\'s time\\n for the awarding... of the grimoires!\\n This is my grimoire?\\n Check it out! Mine\\'s bigger!\\n Mine\\'s thicker, though.\\n All right! Now I can leave  this town and go to the city.\\n I\\'m gonna take over the family business.\\n {\\\\i1}This{\\\\i0} is my grimoire?\\n Mine\\'s like...\\n I\\'ll... think about my future more once  my grimoire has more pages filled in.\\n We\\'ll be taking the Magic Knights\\'  entrance exams in six months.\\n We\\'ll be sure to get in.\\n Good, good. I look forward to it.\\n Um...\\n My grimoire\\'s not coming.\\n Um...\\n My grimoire\\'s not coming.\\n Er...\\n Try again next year.\\n What?!\\n What the heck?!\\n That\\'s actually amazing!\\n That\\'s way too funny!\\n Seriously?\\n I can\\'t believe it.\\n If we competed to see who was most pathetic, we\\'d be no match for that guy.\\n A four-leaf clover...\\n A four-leaf? You mean the legendary...\\n H-Hey...\\n The one that the first Wizard King received?\\n The grimoire said to be filled  with immense power and good luck?\\n Him?\\n That peasant?\\n Wow!\\n I\\'m going to become the Wizard King.\\n Awesome!\\n He\\'s the shining star of Hage!\\n You\\'re amazing, Yuno!\\n He\\'s so cool.\\n Yuno...\\n Just you wait.\\n I\\'ll catch up to you in no time.\\n Because I\\'m your rival!\\n Did he just say \"rival\"?\\n He didn\\'t even get a grimoire.  What is he thinking?\\n Not possible.\\n All right, kids! We\\'re heading  home to prepare for the feast!\\n You can each have three tatoes today!\\n Yay!\\n I sure would like to eat something  else once in a while.\\n What an amazing thing to find  in a crummy little town like this.\\n I thought that once I got my grimoire,\\n I\\'d be able to use magic, but...\\n I never thought I wouldn\\'t even get one.\\n But... like hell I\\'m gonna give up!\\n Don\\'t you dare underestimate me, fate!\\n I\\'ll show you!\\n Even if it takes one, two,  ten, or a hundred years!\\n I\\'ll keep working hard  until I get my grimoire!\\n I\\'ll become the Wizard King, and prove  to everyone that anyone can be awesome,\\n even if they\\'re poor or just some orphan!\\n You jerk!\\n Just you wait, Yuno!\\n H-Hey, you don\\'t have to go that far.\\n We should\\'ve been the stars today.\\n And yet... this peasant receives  a four-leaf clover?!\\n I\\'ll just...\\n Hey!\\n I\\'ll just have to turn it into ash!\\n He held back my flames without  even using his grimoire?!\\n D-Do something!\\n But...\\n Do it!\\n I can\\'t let you go and burn that.\\n Don\\'t bother to resist.\\n My Creation Magic: Binding Iron Chain\\n restricts the magic and movements  of the one it captures.\\n Who are you?\\n Until recently, I was a pretty well-known  Magic Knight called Revchi of Chain Magic.\\n But I got kicked out, so now  I\\'m just a wretched thief.\\n And I\\'ll be taking that grimoire.\\n Revchi, was it? It\\'s pointless  for you to steal that.\\n The only oneâ\\x80\\x94\\n The only one who can use a  grimoire is the one it chose.\\n However, underground collectors  are buying grimoires\\n with four-leaf clovers for insane prices.\\n A four-leaf clover may have chosen you,\\n but you only just received it. You\\'re still just a little chick.\\n How unfortunate for you that  I happened to be here.\\n Your legend is going to end  before it even begins.\\n Hey, that pendant looks like  it\\'s worth something, too.\\n I guess I\\'ll be taking that...\\n Hold it!\\n What do you think you\\'re doing?!\\n I\\'ve come to save...\\n Huh?\\n Who the hell are you?!\\n That\\'s Yuno\\'s grimoire!\\n Why do you have it? You thief!\\n Aren\\'t you the pathetic little brat  who wasn\\'t even given a grimoire?\\n Oh, you remember me!\\n Yeah, I\\'m that pathetic little brat!\\n A grimoire is precious to  the person who received it!\\n Give it back to Yuno, you jerk!\\n The outside world is a place where crooked  deeds like this can be overlooked.\\n But you\\'ll be dead before you find that out for yourself.\\n Asta, run!\\n I\\'m not going to run away\\n from a disgraced loser like him!\\n I\\'m not done yet!\\n No... You\\'re finished.\\n Dance of the Pitless Viper!\\n Wh-What a heavy blow...\\n So this is the power of the mages  from outside this town.\\n I can\\'t possibly beat him  with just my physical training.\\n Thank you for that useless struggle, brat.\\n Not yet. I\\'m not finished...\\n I\\'m going to be... the Wizard King.\\n You? The Wizard King?\\n I have the ability to find out\\n just how much magical power  one has with these chains.\\n And you have no magic whatsoever.\\n You must\\'ve been born that way. No wonder you couldn\\'t get a grimoire.\\n To think that you lack even an ounce of magic\\n in this world where magic is everything.\\n What a priceless find!\\n Huh?\\n What the hell?\\n Then no matter how hard I try,  I won\\'t be able to use magic?\\n To think that someone so pathetic existed.\\n You won\\'t even be able to find a job,  let alone become the Wizard King!\\n I\\'m sure your friend, the great  genius over there, mocks you, too.\\n Yeah, maybe.\\n Yuno\\'s so amazing that he  was chosen by the four-leaf.\\n I\\'m just...\\n You can\\'t do a thing in this world.  Just give up on everything.\\n You were born a loser!\\n He\\'s right.\\n No matter how hard I try,  some things just can\\'t be helped.\\n I\\'m just going to give...\\n Hey!\\n Who are you calling a loser?\\n Asta, it\\'s true that you won\\'t be  able to become the Wizard King,\\n no matter what.\\n You hear that? Even your little friend  is telling you it\\'s impossible.\\n That\\'s because I\\'m going  to become the Wizard King!\\n What?\\n He\\'s no loser.\\n He\\'s...\\n Asta\\'s my rival!\\n Huh?\\n Him? Your rival?\\n This brat who has no  magical power whatsoever?\\n Not... Not yet.\\n Sorry you had to see me  looking that pathetic, Yuno.\\n Just a sec...\\n I\\'m gonna kick this guy\\'s butt!\\n A gri... moire?\\n I knew it.\\n There\\'s no way that Asta  wouldn\\'t have been chosen!\\n Your magic?\\n But you didn\\'t have any magic within you!\\n What in the world is that grimoire?!\\n The three leaves of the clover  represent faith, hope, and love.\\n Within a fourth leaf dwells good luck.\\n Within a fifth leaf...\\n resides a demon.\\n {\\\\fad(250,1)}Asta and Yuno\\n GreyÂ\\xa0words can\\'t make anything happen\\n I know, yeah I know\\n Wishing to fly freely across the sky\\n I dreamed it all my life\\n Step by step I go, though  it\\'s a doubtful worldÂ\\n Don\\'t care how much I fall\\n Instinct is my guide, I never give up\\n To faraway future, I burst out running\\n Go beyond even the unseen fears\\n The vision I had, so I can be myself\\n Someday I will write the next page\\n You are my hope\\n Like that page from someday\\n I was able to meet you\\n I call this a miracle\\n I\\'m not going to give up just  because I can\\'t use magic!\\n It doesn\\'t matter if you\\'re a peasant or an orphan! Anyone can shine in this world!\\n {\\\\i1}Black Clover,{\\\\i0} Page 2: \"The Boys\\' Promise.\"\\n {\\\\fad(135,1)}Page 2  {\\\\fs18}The Boys\\' Promise\\n Not giving up is my magic!'"
      ]
     },
     "execution_count": 20,
     "metadata": {},
     "output_type": "execute_result"
    }
   ],
   "source": [
    "script"
   ]
  },
  {
   "cell_type": "code",
   "execution_count": 21,
   "metadata": {},
   "outputs": [
    {
     "data": {
      "text/plain": [
       "['A Village Out in the Boonies: Hage\\n Here we go again...',\n",
       " 'There, there...',\n",
       " 'There you are.']"
      ]
     },
     "execution_count": 21,
     "metadata": {},
     "output_type": "execute_result"
    }
   ],
   "source": [
    "script_sentences = sent_tokenize(script)\n",
    "script_sentences[:3]"
   ]
  },
  {
   "cell_type": "code",
   "execution_count": 22,
   "metadata": {},
   "outputs": [],
   "source": [
    "sentence_batch_size = 20\n",
    "script_sentences = script.split(\"\\n \")  # Split sentences by newline\n",
    "script_batches = []\n",
    "for index in range(0, len(script_sentences), sentence_batch_size):\n",
    "    sent = \"\\n \".join(script_sentences[index:index+sentence_batch_size])\n",
    "    script_batches.append(sent)"
   ]
  },
  {
   "cell_type": "code",
   "execution_count": 23,
   "metadata": {},
   "outputs": [
    {
     "data": {
      "text/plain": [
       "['A Village Out in the Boonies: Hage\\n Here we go again...\\n There, there...\\n There you are.\\n Those two finally calmed down.\\n Are they brothers... or perhaps twins?\\n No, they\\'re not.\\n This one is rather calm, but this one...\\n seems like he has a lot of spunk.\\n First of all, they don\\'t look a thing alike.\\n Hm? \"Yuno\"...\\n Let\\'s see. And the spunky one over here isâ\\x80\\x94\\n Hey! You\\'re a bit too spunky...\\n \"Asta,\" eh?\\n Right! You two don\\'t need to  worry about a thing anymore.\\n Starting today, this is your new home...\\n Asta, Yuno.\\n {\\\\fad(1,958)}15 Years Later\\n Hopefully, we\\'ll have a  great harvest this year.\\n Yeah.',\n",
       " \"Hup.\\n Sister Lily!\\n What the...\\n Must be that runt from the church again.\\n I'll become the Wizard King  someday and make you happy!\\n So please marry me!\\n I'm sorry, Asta, but I'm everyone's sister.\\n Not yet!\\n Um... I'm sorry.\\n I'm not giving up yet!\\n Er, um... But...\\n I'm not giving up!\\n I'm really sorry!\\n One more time, Sister Lily!\\n Stop pestering me!\\n Water Creation Magic: Holy Fist of Love!\\n I-I'm sorry, Asta.\\n I used magic from my  grimoire without thinking...\\n Well done, sister.\\n No mercy whatsoever.\"]"
      ]
     },
     "execution_count": 23,
     "metadata": {},
     "output_type": "execute_result"
    }
   ],
   "source": [
    "script_batches[:2]"
   ]
  },
  {
   "cell_type": "code",
   "execution_count": 24,
   "metadata": {},
   "outputs": [],
   "source": [
    "theme_output = theme_classifier(\n",
    "    script_batches[:2],\n",
    "    theme_list,\n",
    "    multi_label=True\n",
    ")"
   ]
  },
  {
   "cell_type": "code",
   "execution_count": 25,
   "metadata": {},
   "outputs": [
    {
     "data": {
      "text/plain": [
       "[{'sequence': 'A Village Out in the Boonies: Hage\\n Here we go again...\\n There, there...\\n There you are.\\n Those two finally calmed down.\\n Are they brothers... or perhaps twins?\\n No, they\\'re not.\\n This one is rather calm, but this one...\\n seems like he has a lot of spunk.\\n First of all, they don\\'t look a thing alike.\\n Hm? \"Yuno\"...\\n Let\\'s see. And the spunky one over here isâ\\x80\\x94\\n Hey! You\\'re a bit too spunky...\\n \"Asta,\" eh?\\n Right! You two don\\'t need to  worry about a thing anymore.\\n Starting today, this is your new home...\\n Asta, Yuno.\\n {\\\\fad(1,958)}15 Years Later\\n Hopefully, we\\'ll have a  great harvest this year.\\n Yeah.',\n",
       "  'labels': ['dialogue',\n",
       "   'belonging',\n",
       "   'overcoming adversity',\n",
       "   'teamwork',\n",
       "   'perseverance',\n",
       "   'discrimination',\n",
       "   'friendship',\n",
       "   'self-discovery',\n",
       "   'magic vs effort',\n",
       "   'sacrifice',\n",
       "   'dreams'],\n",
       "  'scores': [0.9596543908119202,\n",
       "   0.9595633745193481,\n",
       "   0.9333593249320984,\n",
       "   0.8461503386497498,\n",
       "   0.8329465389251709,\n",
       "   0.7768705487251282,\n",
       "   0.7346278429031372,\n",
       "   0.6916165351867676,\n",
       "   0.4014383852481842,\n",
       "   0.3692418336868286,\n",
       "   0.09349832683801651]},\n",
       " {'sequence': \"Hup.\\n Sister Lily!\\n What the...\\n Must be that runt from the church again.\\n I'll become the Wizard King  someday and make you happy!\\n So please marry me!\\n I'm sorry, Asta, but I'm everyone's sister.\\n Not yet!\\n Um... I'm sorry.\\n I'm not giving up yet!\\n Er, um... But...\\n I'm not giving up!\\n I'm really sorry!\\n One more time, Sister Lily!\\n Stop pestering me!\\n Water Creation Magic: Holy Fist of Love!\\n I-I'm sorry, Asta.\\n I used magic from my  grimoire without thinking...\\n Well done, sister.\\n No mercy whatsoever.\",\n",
       "  'labels': ['overcoming adversity',\n",
       "   'dialogue',\n",
       "   'magic vs effort',\n",
       "   'perseverance',\n",
       "   'discrimination',\n",
       "   'belonging',\n",
       "   'friendship',\n",
       "   'teamwork',\n",
       "   'self-discovery',\n",
       "   'sacrifice',\n",
       "   'dreams'],\n",
       "  'scores': [0.9081156849861145,\n",
       "   0.8981263637542725,\n",
       "   0.7601240873336792,\n",
       "   0.6662830710411072,\n",
       "   0.6371960639953613,\n",
       "   0.58360356092453,\n",
       "   0.49877023696899414,\n",
       "   0.4001775085926056,\n",
       "   0.37626931071281433,\n",
       "   0.3665432333946228,\n",
       "   0.008898844942450523]}]"
      ]
     },
     "execution_count": 25,
     "metadata": {},
     "output_type": "execute_result"
    }
   ],
   "source": [
    "theme_output"
   ]
  },
  {
   "cell_type": "code",
   "execution_count": 26,
   "metadata": {},
   "outputs": [],
   "source": [
    "# Wrangle Output\n",
    "# overcoming adversity [0.4321432, 0.654]\n",
    "themes = {}\n",
    "for output in theme_output:\n",
    "    for label,score in zip(output['labels'],output['scores']):\n",
    "        if label not in themes:\n",
    "            themes[label] = []\n",
    "        themes[label].append(score)"
   ]
  },
  {
   "cell_type": "code",
   "execution_count": 27,
   "metadata": {},
   "outputs": [],
   "source": [
    "themes = {key: float(np.mean(np.array(value))) for key, value in themes.items()}\n"
   ]
  },
  {
   "cell_type": "code",
   "execution_count": 28,
   "metadata": {},
   "outputs": [
    {
     "data": {
      "text/plain": [
       "{'dialogue': 0.9288903772830963,\n",
       " 'belonging': 0.7715834677219391,\n",
       " 'overcoming adversity': 0.9207375049591064,\n",
       " 'teamwork': 0.6231639236211777,\n",
       " 'perseverance': 0.749614804983139,\n",
       " 'discrimination': 0.7070333063602448,\n",
       " 'friendship': 0.6166990399360657,\n",
       " 'self-discovery': 0.533942922949791,\n",
       " 'magic vs effort': 0.5807812362909317,\n",
       " 'sacrifice': 0.3678925335407257,\n",
       " 'dreams': 0.05119858589023352}"
      ]
     },
     "execution_count": 28,
     "metadata": {},
     "output_type": "execute_result"
    }
   ],
   "source": [
    "themes"
   ]
  },
  {
   "cell_type": "code",
   "execution_count": 29,
   "metadata": {},
   "outputs": [],
   "source": [
    "def get_themes_inference(script):\n",
    "    script_sentences = sent_tokenize(script)\n",
    "\n",
    "    #Batch Sentence\n",
    "    sentence_batch_size = 20\n",
    "    script_sentences = script.split(\"\\n \")  # Split sentences by newline\n",
    "    script_batches = []\n",
    "    for index in range(0, len(script_sentences), sentence_batch_size):\n",
    "        sent = \"\\n \".join(script_sentences[index:index+sentence_batch_size])\n",
    "        script_batches.append(sent)\n",
    "    \n",
    "    #Run Model\n",
    "    theme_output = theme_classifier(\n",
    "        script_batches[:2],\n",
    "        theme_list,\n",
    "        multi_label=True\n",
    "    )\n",
    "\n",
    "    #Wrangle Output\n",
    "    themes = {}\n",
    "    for output in theme_output:\n",
    "        for label,score in zip(output['labels'],output['scores']):\n",
    "            if label not in themes:\n",
    "                themes[label] = []\n",
    "            themes[label].append(score)\n",
    "\n",
    "    themes = {key: float(np.mean(np.array(value))) for key, value in themes.items()}\n",
    "\n",
    "    return themes"
   ]
  },
  {
   "cell_type": "code",
   "execution_count": 30,
   "metadata": {},
   "outputs": [],
   "source": [
    "df = df.head(2)"
   ]
  },
  {
   "cell_type": "code",
   "execution_count": 31,
   "metadata": {},
   "outputs": [
    {
     "data": {
      "text/html": [
       "<div>\n",
       "<style scoped>\n",
       "    .dataframe tbody tr th:only-of-type {\n",
       "        vertical-align: middle;\n",
       "    }\n",
       "\n",
       "    .dataframe tbody tr th {\n",
       "        vertical-align: top;\n",
       "    }\n",
       "\n",
       "    .dataframe thead th {\n",
       "        text-align: right;\n",
       "    }\n",
       "</style>\n",
       "<table border=\"1\" class=\"dataframe\">\n",
       "  <thead>\n",
       "    <tr style=\"text-align: right;\">\n",
       "      <th></th>\n",
       "      <th>episode</th>\n",
       "      <th>script</th>\n",
       "    </tr>\n",
       "  </thead>\n",
       "  <tbody>\n",
       "    <tr>\n",
       "      <th>0</th>\n",
       "      <td>1</td>\n",
       "      <td>A Village Out in the Boonies: Hage\\n Here we g...</td>\n",
       "    </tr>\n",
       "    <tr>\n",
       "      <th>1</th>\n",
       "      <td>2</td>\n",
       "      <td>Not yet. I'm not finished...\\n I'm going to be...</td>\n",
       "    </tr>\n",
       "  </tbody>\n",
       "</table>\n",
       "</div>"
      ],
      "text/plain": [
       "   episode                                             script\n",
       "0        1  A Village Out in the Boonies: Hage\\n Here we g...\n",
       "1        2  Not yet. I'm not finished...\\n I'm going to be..."
      ]
     },
     "execution_count": 31,
     "metadata": {},
     "output_type": "execute_result"
    }
   ],
   "source": [
    "df"
   ]
  },
  {
   "cell_type": "code",
   "execution_count": 32,
   "metadata": {},
   "outputs": [],
   "source": [
    "output_themes = df['script'].apply(get_themes_inference)"
   ]
  },
  {
   "cell_type": "code",
   "execution_count": 33,
   "metadata": {},
   "outputs": [
    {
     "data": {
      "text/plain": [
       "0    {'dialogue': 0.9288903772830963, 'belonging': ...\n",
       "1    {'overcoming adversity': 0.947499692440033, 'd...\n",
       "Name: script, dtype: object"
      ]
     },
     "execution_count": 33,
     "metadata": {},
     "output_type": "execute_result"
    }
   ],
   "source": [
    "output_themes"
   ]
  },
  {
   "cell_type": "code",
   "execution_count": 34,
   "metadata": {},
   "outputs": [],
   "source": [
    "theme_df = pd.DataFrame(output_themes.tolist())"
   ]
  },
  {
   "cell_type": "code",
   "execution_count": 35,
   "metadata": {},
   "outputs": [
    {
     "data": {
      "text/html": [
       "<div>\n",
       "<style scoped>\n",
       "    .dataframe tbody tr th:only-of-type {\n",
       "        vertical-align: middle;\n",
       "    }\n",
       "\n",
       "    .dataframe tbody tr th {\n",
       "        vertical-align: top;\n",
       "    }\n",
       "\n",
       "    .dataframe thead th {\n",
       "        text-align: right;\n",
       "    }\n",
       "</style>\n",
       "<table border=\"1\" class=\"dataframe\">\n",
       "  <thead>\n",
       "    <tr style=\"text-align: right;\">\n",
       "      <th></th>\n",
       "      <th>dialogue</th>\n",
       "      <th>belonging</th>\n",
       "      <th>overcoming adversity</th>\n",
       "      <th>teamwork</th>\n",
       "      <th>perseverance</th>\n",
       "      <th>discrimination</th>\n",
       "      <th>friendship</th>\n",
       "      <th>self-discovery</th>\n",
       "      <th>magic vs effort</th>\n",
       "      <th>sacrifice</th>\n",
       "      <th>dreams</th>\n",
       "    </tr>\n",
       "  </thead>\n",
       "  <tbody>\n",
       "    <tr>\n",
       "      <th>0</th>\n",
       "      <td>0.928890</td>\n",
       "      <td>0.771583</td>\n",
       "      <td>0.920738</td>\n",
       "      <td>0.623164</td>\n",
       "      <td>0.749615</td>\n",
       "      <td>0.707033</td>\n",
       "      <td>0.616699</td>\n",
       "      <td>0.533943</td>\n",
       "      <td>0.580781</td>\n",
       "      <td>0.367893</td>\n",
       "      <td>0.051199</td>\n",
       "    </tr>\n",
       "    <tr>\n",
       "      <th>1</th>\n",
       "      <td>0.918026</td>\n",
       "      <td>0.857310</td>\n",
       "      <td>0.947500</td>\n",
       "      <td>0.584957</td>\n",
       "      <td>0.695619</td>\n",
       "      <td>0.927506</td>\n",
       "      <td>0.582200</td>\n",
       "      <td>0.669306</td>\n",
       "      <td>0.891148</td>\n",
       "      <td>0.859054</td>\n",
       "      <td>0.281876</td>\n",
       "    </tr>\n",
       "  </tbody>\n",
       "</table>\n",
       "</div>"
      ],
      "text/plain": [
       "   dialogue  belonging  overcoming adversity  teamwork  perseverance  \\\n",
       "0  0.928890   0.771583              0.920738  0.623164      0.749615   \n",
       "1  0.918026   0.857310              0.947500  0.584957      0.695619   \n",
       "\n",
       "   discrimination  friendship  self-discovery  magic vs effort  sacrifice  \\\n",
       "0        0.707033    0.616699        0.533943         0.580781   0.367893   \n",
       "1        0.927506    0.582200        0.669306         0.891148   0.859054   \n",
       "\n",
       "     dreams  \n",
       "0  0.051199  \n",
       "1  0.281876  "
      ]
     },
     "execution_count": 35,
     "metadata": {},
     "output_type": "execute_result"
    }
   ],
   "source": [
    "theme_df"
   ]
  },
  {
   "cell_type": "code",
   "execution_count": 36,
   "metadata": {},
   "outputs": [
    {
     "data": {
      "text/html": [
       "<div>\n",
       "<style scoped>\n",
       "    .dataframe tbody tr th:only-of-type {\n",
       "        vertical-align: middle;\n",
       "    }\n",
       "\n",
       "    .dataframe tbody tr th {\n",
       "        vertical-align: top;\n",
       "    }\n",
       "\n",
       "    .dataframe thead th {\n",
       "        text-align: right;\n",
       "    }\n",
       "</style>\n",
       "<table border=\"1\" class=\"dataframe\">\n",
       "  <thead>\n",
       "    <tr style=\"text-align: right;\">\n",
       "      <th></th>\n",
       "      <th>episode</th>\n",
       "      <th>script</th>\n",
       "    </tr>\n",
       "  </thead>\n",
       "  <tbody>\n",
       "    <tr>\n",
       "      <th>0</th>\n",
       "      <td>1</td>\n",
       "      <td>A Village Out in the Boonies: Hage\\n Here we g...</td>\n",
       "    </tr>\n",
       "    <tr>\n",
       "      <th>1</th>\n",
       "      <td>2</td>\n",
       "      <td>Not yet. I'm not finished...\\n I'm going to be...</td>\n",
       "    </tr>\n",
       "  </tbody>\n",
       "</table>\n",
       "</div>"
      ],
      "text/plain": [
       "   episode                                             script\n",
       "0        1  A Village Out in the Boonies: Hage\\n Here we g...\n",
       "1        2  Not yet. I'm not finished...\\n I'm going to be..."
      ]
     },
     "execution_count": 36,
     "metadata": {},
     "output_type": "execute_result"
    }
   ],
   "source": [
    "df"
   ]
  },
  {
   "cell_type": "code",
   "execution_count": 37,
   "metadata": {},
   "outputs": [
    {
     "data": {
      "text/html": [
       "<div>\n",
       "<style scoped>\n",
       "    .dataframe tbody tr th:only-of-type {\n",
       "        vertical-align: middle;\n",
       "    }\n",
       "\n",
       "    .dataframe tbody tr th {\n",
       "        vertical-align: top;\n",
       "    }\n",
       "\n",
       "    .dataframe thead th {\n",
       "        text-align: right;\n",
       "    }\n",
       "</style>\n",
       "<table border=\"1\" class=\"dataframe\">\n",
       "  <thead>\n",
       "    <tr style=\"text-align: right;\">\n",
       "      <th></th>\n",
       "      <th>episode</th>\n",
       "      <th>script</th>\n",
       "      <th>dialogue</th>\n",
       "      <th>belonging</th>\n",
       "      <th>overcoming adversity</th>\n",
       "      <th>teamwork</th>\n",
       "      <th>perseverance</th>\n",
       "      <th>discrimination</th>\n",
       "      <th>friendship</th>\n",
       "      <th>self-discovery</th>\n",
       "      <th>magic vs effort</th>\n",
       "      <th>sacrifice</th>\n",
       "      <th>dreams</th>\n",
       "    </tr>\n",
       "  </thead>\n",
       "  <tbody>\n",
       "    <tr>\n",
       "      <th>0</th>\n",
       "      <td>1</td>\n",
       "      <td>A Village Out in the Boonies: Hage\\n Here we g...</td>\n",
       "      <td>0.928890</td>\n",
       "      <td>0.771583</td>\n",
       "      <td>0.920738</td>\n",
       "      <td>0.623164</td>\n",
       "      <td>0.749615</td>\n",
       "      <td>0.707033</td>\n",
       "      <td>0.616699</td>\n",
       "      <td>0.533943</td>\n",
       "      <td>0.580781</td>\n",
       "      <td>0.367893</td>\n",
       "      <td>0.051199</td>\n",
       "    </tr>\n",
       "    <tr>\n",
       "      <th>1</th>\n",
       "      <td>2</td>\n",
       "      <td>Not yet. I'm not finished...\\n I'm going to be...</td>\n",
       "      <td>0.918026</td>\n",
       "      <td>0.857310</td>\n",
       "      <td>0.947500</td>\n",
       "      <td>0.584957</td>\n",
       "      <td>0.695619</td>\n",
       "      <td>0.927506</td>\n",
       "      <td>0.582200</td>\n",
       "      <td>0.669306</td>\n",
       "      <td>0.891148</td>\n",
       "      <td>0.859054</td>\n",
       "      <td>0.281876</td>\n",
       "    </tr>\n",
       "  </tbody>\n",
       "</table>\n",
       "</div>"
      ],
      "text/plain": [
       "   episode                                             script  dialogue  \\\n",
       "0        1  A Village Out in the Boonies: Hage\\n Here we g...  0.928890   \n",
       "1        2  Not yet. I'm not finished...\\n I'm going to be...  0.918026   \n",
       "\n",
       "   belonging  overcoming adversity  teamwork  perseverance  discrimination  \\\n",
       "0   0.771583              0.920738  0.623164      0.749615        0.707033   \n",
       "1   0.857310              0.947500  0.584957      0.695619        0.927506   \n",
       "\n",
       "   friendship  self-discovery  magic vs effort  sacrifice    dreams  \n",
       "0    0.616699        0.533943         0.580781   0.367893  0.051199  \n",
       "1    0.582200        0.669306         0.891148   0.859054  0.281876  "
      ]
     },
     "execution_count": 37,
     "metadata": {},
     "output_type": "execute_result"
    }
   ],
   "source": [
    "df[theme_df.columns] = theme_df\n",
    "df"
   ]
  },
  {
   "cell_type": "code",
   "execution_count": null,
   "metadata": {},
   "outputs": [],
   "source": []
  },
  {
   "cell_type": "code",
   "execution_count": 38,
   "metadata": {},
   "outputs": [],
   "source": [
    "# Visualize outpout"
   ]
  },
  {
   "cell_type": "code",
   "execution_count": 39,
   "metadata": {},
   "outputs": [],
   "source": [
    "df = df.drop('dialogue', axis=1)"
   ]
  },
  {
   "cell_type": "code",
   "execution_count": 40,
   "metadata": {},
   "outputs": [
    {
     "data": {
      "text/html": [
       "<div>\n",
       "<style scoped>\n",
       "    .dataframe tbody tr th:only-of-type {\n",
       "        vertical-align: middle;\n",
       "    }\n",
       "\n",
       "    .dataframe tbody tr th {\n",
       "        vertical-align: top;\n",
       "    }\n",
       "\n",
       "    .dataframe thead th {\n",
       "        text-align: right;\n",
       "    }\n",
       "</style>\n",
       "<table border=\"1\" class=\"dataframe\">\n",
       "  <thead>\n",
       "    <tr style=\"text-align: right;\">\n",
       "      <th></th>\n",
       "      <th>theme</th>\n",
       "      <th>score</th>\n",
       "    </tr>\n",
       "  </thead>\n",
       "  <tbody>\n",
       "    <tr>\n",
       "      <th>0</th>\n",
       "      <td>belonging</td>\n",
       "      <td>1.628894</td>\n",
       "    </tr>\n",
       "    <tr>\n",
       "      <th>1</th>\n",
       "      <td>overcoming adversity</td>\n",
       "      <td>1.868237</td>\n",
       "    </tr>\n",
       "    <tr>\n",
       "      <th>2</th>\n",
       "      <td>teamwork</td>\n",
       "      <td>1.208121</td>\n",
       "    </tr>\n",
       "    <tr>\n",
       "      <th>3</th>\n",
       "      <td>perseverance</td>\n",
       "      <td>1.445234</td>\n",
       "    </tr>\n",
       "    <tr>\n",
       "      <th>4</th>\n",
       "      <td>discrimination</td>\n",
       "      <td>1.634539</td>\n",
       "    </tr>\n",
       "    <tr>\n",
       "      <th>5</th>\n",
       "      <td>friendship</td>\n",
       "      <td>1.198899</td>\n",
       "    </tr>\n",
       "    <tr>\n",
       "      <th>6</th>\n",
       "      <td>self-discovery</td>\n",
       "      <td>1.203249</td>\n",
       "    </tr>\n",
       "    <tr>\n",
       "      <th>7</th>\n",
       "      <td>magic vs effort</td>\n",
       "      <td>1.471929</td>\n",
       "    </tr>\n",
       "    <tr>\n",
       "      <th>8</th>\n",
       "      <td>sacrifice</td>\n",
       "      <td>1.226947</td>\n",
       "    </tr>\n",
       "    <tr>\n",
       "      <th>9</th>\n",
       "      <td>dreams</td>\n",
       "      <td>0.333075</td>\n",
       "    </tr>\n",
       "  </tbody>\n",
       "</table>\n",
       "</div>"
      ],
      "text/plain": [
       "                  theme     score\n",
       "0             belonging  1.628894\n",
       "1  overcoming adversity  1.868237\n",
       "2              teamwork  1.208121\n",
       "3          perseverance  1.445234\n",
       "4        discrimination  1.634539\n",
       "5            friendship  1.198899\n",
       "6        self-discovery  1.203249\n",
       "7       magic vs effort  1.471929\n",
       "8             sacrifice  1.226947\n",
       "9                dreams  0.333075"
      ]
     },
     "execution_count": 40,
     "metadata": {},
     "output_type": "execute_result"
    }
   ],
   "source": [
    "theme_output = df.drop(['episode', 'script',], axis=1).sum().reset_index()\n",
    "theme_output.columns = ['theme', 'score']\n",
    "theme_output"
   ]
  },
  {
   "cell_type": "code",
   "execution_count": 44,
   "metadata": {},
   "outputs": [],
   "source": [
    "import matplotlib.pyplot as plt\n",
    "import seaborn as sns"
   ]
  },
  {
   "cell_type": "code",
   "execution_count": 43,
   "metadata": {},
   "outputs": [
    {
     "data": {
      "image/png": "[encoded data removed]",
      "text/plain": [
       "<Figure size 640x480 with 1 Axes>"
      ]
     },
     "metadata": {},
     "output_type": "display_data"
    }
   ],
   "source": [
    "sns.barplot(data = theme_output, x=\"theme\", y=\"score\")\n",
    "plt.xticks(rotation=45)\n",
    "plt.show()"
   ]
  },
  {
   "cell_type": "code",
   "execution_count": null,
   "metadata": {},
   "outputs": [],
   "source": []
  }
 ],
 "metadata": {
  "kernelspec": {
   "display_name": "Python 3",
   "language": "python",
   "name": "python3"
  },
  "language_info": {
   "codemirror_mode": {
    "name": "ipython",
    "version": 3
   },
   "file_extension": ".py",
   "mimetype": "text/x-python",
   "name": "python",
   "nbconvert_exporter": "python",
   "pygments_lexer": "ipython3",
   "version": "3.12.0"
  }
 },
 "nbformat": 4,
 "nbformat_minor": 2
}
